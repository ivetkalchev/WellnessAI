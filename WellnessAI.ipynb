{
 "cells": [
  {
   "cell_type": "markdown",
   "metadata": {},
   "source": [
    "# WellnessAI (Iteration 0)\n",
    "\n",
    "This notebook focuses on developing an AI model using the K-Nearest Neighbors (K-NN) algorithm to predict user's productivity, based on their daily habits and lifestyle factors. The model is built using a comprehensive dataset obtained from Kaggle, which captures various lifestyle parameters such as sleep quality, exercise, caffeine intake, screen time and work hours."
   ]
  },
  {
   "cell_type": "code",
   "execution_count": 159,
   "metadata": {},
   "outputs": [
    {
     "name": "stdout",
     "output_type": "stream",
     "text": [
      "scikit-learn version: 1.6.1\n",
      "pandas version: 2.2.3\n",
      "seaborn version: 0.13.2\n"
     ]
    }
   ],
   "source": [
    "import sklearn\n",
    "import pandas\n",
    "import seaborn\n",
    "\n",
    "print(\"scikit-learn version:\", sklearn.__version__)     # 1.6.1\n",
    "print(\"pandas version:\", pandas.__version__)            # 2.2.3\n",
    "print(\"seaborn version:\", seaborn.__version__)          # 0.13.2"
   ]
  },
  {
   "cell_type": "markdown",
   "metadata": {},
   "source": [
    "## 📦 Data provisioning\n",
    "The dataset has been imported from Kaggle: https://www.kaggle.com/datasets/adilshamim8/sleep-cycle-and-productivity/data"
   ]
  },
  {
   "cell_type": "code",
   "execution_count": 160,
   "metadata": {},
   "outputs": [
    {
     "data": {
      "text/plain": [
       "(5000, 15)"
      ]
     },
     "execution_count": 160,
     "metadata": {},
     "output_type": "execute_result"
    }
   ],
   "source": [
    "df = pandas.read_csv(\"dataset/sleep_cycle_productivity.csv\")\n",
    "df.shape"
   ]
  },
  {
   "cell_type": "markdown",
   "metadata": {},
   "source": [
    "## 📃 Sample the data\n",
    "\n",
    "Display sample data to understand the dataset structure and identify key variables."
   ]
  },
  {
   "cell_type": "code",
   "execution_count": 161,
   "metadata": {},
   "outputs": [
    {
     "data": {
      "text/html": [
       "<div>\n",
       "<style scoped>\n",
       "    .dataframe tbody tr th:only-of-type {\n",
       "        vertical-align: middle;\n",
       "    }\n",
       "\n",
       "    .dataframe tbody tr th {\n",
       "        vertical-align: top;\n",
       "    }\n",
       "\n",
       "    .dataframe thead th {\n",
       "        text-align: right;\n",
       "    }\n",
       "</style>\n",
       "<table border=\"1\" class=\"dataframe\">\n",
       "  <thead>\n",
       "    <tr style=\"text-align: right;\">\n",
       "      <th></th>\n",
       "      <th>Date</th>\n",
       "      <th>Person_ID</th>\n",
       "      <th>Age</th>\n",
       "      <th>Gender</th>\n",
       "      <th>Sleep Start Time</th>\n",
       "      <th>Sleep End Time</th>\n",
       "      <th>Total Sleep Hours</th>\n",
       "      <th>Sleep Quality</th>\n",
       "      <th>Exercise (mins/day)</th>\n",
       "      <th>Caffeine Intake (mg)</th>\n",
       "      <th>Screen Time Before Bed (mins)</th>\n",
       "      <th>Work Hours (hrs/day)</th>\n",
       "      <th>Productivity Score</th>\n",
       "      <th>Mood Score</th>\n",
       "      <th>Stress Level</th>\n",
       "    </tr>\n",
       "  </thead>\n",
       "  <tbody>\n",
       "    <tr>\n",
       "      <th>3831</th>\n",
       "      <td>2024-01-19</td>\n",
       "      <td>4091</td>\n",
       "      <td>21</td>\n",
       "      <td>Male</td>\n",
       "      <td>21.42</td>\n",
       "      <td>4.87</td>\n",
       "      <td>7.46</td>\n",
       "      <td>4</td>\n",
       "      <td>40</td>\n",
       "      <td>197</td>\n",
       "      <td>178</td>\n",
       "      <td>6.259080</td>\n",
       "      <td>4</td>\n",
       "      <td>7</td>\n",
       "      <td>2</td>\n",
       "    </tr>\n",
       "    <tr>\n",
       "      <th>4117</th>\n",
       "      <td>2024-06-23</td>\n",
       "      <td>5179</td>\n",
       "      <td>45</td>\n",
       "      <td>Female</td>\n",
       "      <td>21.88</td>\n",
       "      <td>7.10</td>\n",
       "      <td>9.22</td>\n",
       "      <td>8</td>\n",
       "      <td>14</td>\n",
       "      <td>113</td>\n",
       "      <td>4</td>\n",
       "      <td>5.266889</td>\n",
       "      <td>5</td>\n",
       "      <td>3</td>\n",
       "      <td>3</td>\n",
       "    </tr>\n",
       "    <tr>\n",
       "      <th>3935</th>\n",
       "      <td>2024-03-08</td>\n",
       "      <td>6078</td>\n",
       "      <td>46</td>\n",
       "      <td>Female</td>\n",
       "      <td>23.60</td>\n",
       "      <td>7.78</td>\n",
       "      <td>8.18</td>\n",
       "      <td>10</td>\n",
       "      <td>52</td>\n",
       "      <td>87</td>\n",
       "      <td>126</td>\n",
       "      <td>5.956613</td>\n",
       "      <td>8</td>\n",
       "      <td>4</td>\n",
       "      <td>9</td>\n",
       "    </tr>\n",
       "    <tr>\n",
       "      <th>1059</th>\n",
       "      <td>2024-01-01</td>\n",
       "      <td>4037</td>\n",
       "      <td>55</td>\n",
       "      <td>Female</td>\n",
       "      <td>22.40</td>\n",
       "      <td>5.23</td>\n",
       "      <td>6.83</td>\n",
       "      <td>1</td>\n",
       "      <td>61</td>\n",
       "      <td>183</td>\n",
       "      <td>66</td>\n",
       "      <td>7.033695</td>\n",
       "      <td>8</td>\n",
       "      <td>1</td>\n",
       "      <td>8</td>\n",
       "    </tr>\n",
       "    <tr>\n",
       "      <th>2769</th>\n",
       "      <td>2024-03-02</td>\n",
       "      <td>1507</td>\n",
       "      <td>33</td>\n",
       "      <td>Other</td>\n",
       "      <td>20.85</td>\n",
       "      <td>5.63</td>\n",
       "      <td>8.78</td>\n",
       "      <td>4</td>\n",
       "      <td>77</td>\n",
       "      <td>59</td>\n",
       "      <td>74</td>\n",
       "      <td>4.823385</td>\n",
       "      <td>2</td>\n",
       "      <td>2</td>\n",
       "      <td>8</td>\n",
       "    </tr>\n",
       "    <tr>\n",
       "      <th>3213</th>\n",
       "      <td>2024-06-24</td>\n",
       "      <td>1068</td>\n",
       "      <td>38</td>\n",
       "      <td>Female</td>\n",
       "      <td>20.17</td>\n",
       "      <td>4.01</td>\n",
       "      <td>7.84</td>\n",
       "      <td>4</td>\n",
       "      <td>80</td>\n",
       "      <td>227</td>\n",
       "      <td>126</td>\n",
       "      <td>7.120301</td>\n",
       "      <td>10</td>\n",
       "      <td>3</td>\n",
       "      <td>5</td>\n",
       "    </tr>\n",
       "    <tr>\n",
       "      <th>4354</th>\n",
       "      <td>2024-07-14</td>\n",
       "      <td>8019</td>\n",
       "      <td>57</td>\n",
       "      <td>Male</td>\n",
       "      <td>21.83</td>\n",
       "      <td>5.95</td>\n",
       "      <td>8.12</td>\n",
       "      <td>8</td>\n",
       "      <td>35</td>\n",
       "      <td>276</td>\n",
       "      <td>26</td>\n",
       "      <td>7.444152</td>\n",
       "      <td>5</td>\n",
       "      <td>5</td>\n",
       "      <td>3</td>\n",
       "    </tr>\n",
       "    <tr>\n",
       "      <th>2528</th>\n",
       "      <td>2024-09-26</td>\n",
       "      <td>2884</td>\n",
       "      <td>28</td>\n",
       "      <td>Female</td>\n",
       "      <td>22.92</td>\n",
       "      <td>5.05</td>\n",
       "      <td>6.13</td>\n",
       "      <td>1</td>\n",
       "      <td>2</td>\n",
       "      <td>94</td>\n",
       "      <td>148</td>\n",
       "      <td>5.792536</td>\n",
       "      <td>6</td>\n",
       "      <td>3</td>\n",
       "      <td>8</td>\n",
       "    </tr>\n",
       "    <tr>\n",
       "      <th>772</th>\n",
       "      <td>2024-07-07</td>\n",
       "      <td>9711</td>\n",
       "      <td>57</td>\n",
       "      <td>Male</td>\n",
       "      <td>21.72</td>\n",
       "      <td>4.53</td>\n",
       "      <td>6.81</td>\n",
       "      <td>9</td>\n",
       "      <td>45</td>\n",
       "      <td>21</td>\n",
       "      <td>86</td>\n",
       "      <td>6.427626</td>\n",
       "      <td>7</td>\n",
       "      <td>3</td>\n",
       "      <td>6</td>\n",
       "    </tr>\n",
       "    <tr>\n",
       "      <th>35</th>\n",
       "      <td>2024-12-20</td>\n",
       "      <td>5968</td>\n",
       "      <td>47</td>\n",
       "      <td>Male</td>\n",
       "      <td>20.32</td>\n",
       "      <td>4.95</td>\n",
       "      <td>8.63</td>\n",
       "      <td>6</td>\n",
       "      <td>12</td>\n",
       "      <td>186</td>\n",
       "      <td>18</td>\n",
       "      <td>7.113613</td>\n",
       "      <td>9</td>\n",
       "      <td>3</td>\n",
       "      <td>9</td>\n",
       "    </tr>\n",
       "  </tbody>\n",
       "</table>\n",
       "</div>"
      ],
      "text/plain": [
       "            Date  Person_ID  Age  Gender  Sleep Start Time  Sleep End Time  \\\n",
       "3831  2024-01-19       4091   21    Male             21.42            4.87   \n",
       "4117  2024-06-23       5179   45  Female             21.88            7.10   \n",
       "3935  2024-03-08       6078   46  Female             23.60            7.78   \n",
       "1059  2024-01-01       4037   55  Female             22.40            5.23   \n",
       "2769  2024-03-02       1507   33   Other             20.85            5.63   \n",
       "3213  2024-06-24       1068   38  Female             20.17            4.01   \n",
       "4354  2024-07-14       8019   57    Male             21.83            5.95   \n",
       "2528  2024-09-26       2884   28  Female             22.92            5.05   \n",
       "772   2024-07-07       9711   57    Male             21.72            4.53   \n",
       "35    2024-12-20       5968   47    Male             20.32            4.95   \n",
       "\n",
       "      Total Sleep Hours  Sleep Quality  Exercise (mins/day)  \\\n",
       "3831               7.46              4                   40   \n",
       "4117               9.22              8                   14   \n",
       "3935               8.18             10                   52   \n",
       "1059               6.83              1                   61   \n",
       "2769               8.78              4                   77   \n",
       "3213               7.84              4                   80   \n",
       "4354               8.12              8                   35   \n",
       "2528               6.13              1                    2   \n",
       "772                6.81              9                   45   \n",
       "35                 8.63              6                   12   \n",
       "\n",
       "      Caffeine Intake (mg)  Screen Time Before Bed (mins)  \\\n",
       "3831                   197                            178   \n",
       "4117                   113                              4   \n",
       "3935                    87                            126   \n",
       "1059                   183                             66   \n",
       "2769                    59                             74   \n",
       "3213                   227                            126   \n",
       "4354                   276                             26   \n",
       "2528                    94                            148   \n",
       "772                     21                             86   \n",
       "35                     186                             18   \n",
       "\n",
       "      Work Hours (hrs/day)  Productivity Score  Mood Score  Stress Level  \n",
       "3831              6.259080                   4           7             2  \n",
       "4117              5.266889                   5           3             3  \n",
       "3935              5.956613                   8           4             9  \n",
       "1059              7.033695                   8           1             8  \n",
       "2769              4.823385                   2           2             8  \n",
       "3213              7.120301                  10           3             5  \n",
       "4354              7.444152                   5           5             3  \n",
       "2528              5.792536                   6           3             8  \n",
       "772               6.427626                   7           3             6  \n",
       "35                7.113613                   9           3             9  "
      ]
     },
     "execution_count": 161,
     "metadata": {},
     "output_type": "execute_result"
    }
   ],
   "source": [
    "df.sample(10)"
   ]
  },
  {
   "cell_type": "markdown",
   "metadata": {},
   "source": [
    "Analyze Gender distribution for balance in the dataset."
   ]
  },
  {
   "cell_type": "code",
   "execution_count": 162,
   "metadata": {},
   "outputs": [
    {
     "data": {
      "text/plain": [
       "Gender\n",
       "Female    1675\n",
       "Male      1718\n",
       "Other     1607\n",
       "Name: Gender, dtype: int64"
      ]
     },
     "execution_count": 162,
     "metadata": {},
     "output_type": "execute_result"
    }
   ],
   "source": [
    "group_info = df.groupby([\"Gender\"])[\"Gender\"].count()\n",
    "group_info"
   ]
  },
  {
   "cell_type": "markdown",
   "metadata": {},
   "source": [
    "## 💡 Feature selection\n",
    "Identifying features with significant impact on Productivity Score based on domain knowledge and initial observations."
   ]
  },
  {
   "cell_type": "code",
   "execution_count": 163,
   "metadata": {},
   "outputs": [],
   "source": [
    "features = [\"Sleep Quality\", \"Exercise (mins/day)\", \"Screen Time Before Bed (mins)\", \"Caffeine Intake (mg)\", \"Stress Level\", \"Work Hours (hrs/day)\"]\n",
    "target = \"Productivity Score\"\n",
    "\n",
    "X = df[features]\n",
    "y = df[target]"
   ]
  },
  {
   "cell_type": "code",
   "execution_count": 164,
   "metadata": {},
   "outputs": [
    {
     "data": {
      "image/png": "[encoded data removed]",
      "text/plain": [
       "<Figure size 640x480 with 1 Axes>"
      ]
     },
     "metadata": {},
     "output_type": "display_data"
    }
   ],
   "source": [
    "import matplotlib.pyplot as plt\n",
    "seaborn.boxplot(data=df, x=\"Sleep Quality\", y=\"Productivity Score\")\n",
    "plt.title(\"Impact of Sleep Quality on Productivity\", fontsize=16)\n",
    "plt.xlabel(\"Sleep Quality\", fontsize=12)\n",
    "plt.ylabel(\"Productivity Score\", fontsize=12)\n",
    "plt.show()"
   ]
  },
  {
   "cell_type": "markdown",
   "metadata": {},
   "source": [
    "## 🪓 Splitting into train/test\n"
   ]
  },
  {
   "cell_type": "code",
   "execution_count": 165,
   "metadata": {},
   "outputs": [
    {
     "name": "stdout",
     "output_type": "stream",
     "text": [
      "There are in total 5000 observations, of which 4000 are now in the train set, and 1000 in the test set.\n"
     ]
    }
   ],
   "source": [
    "from sklearn.model_selection import train_test_split\n",
    "X_train, X_test, y_train, y_test = train_test_split(X, y, test_size=0.2, random_state=42)\n",
    "print(f\"There are in total {len(X)} observations, of which {len(X_train)} are now in the train set, and {len(X_test)} in the test set.\")"
   ]
  },
  {
   "cell_type": "markdown",
   "metadata": {},
   "source": [
    "## ⚖️ Scaling\n",
    "Scaling the data to ensure that all features contribute equally to the model."
   ]
  },
  {
   "cell_type": "code",
   "execution_count": 166,
   "metadata": {},
   "outputs": [],
   "source": [
    "from sklearn.preprocessing import StandardScaler\n",
    "\n",
    "scaler = StandardScaler()\n",
    "scaler.fit(X_train)\n",
    "X_train = scaler.transform(X_train)\n",
    "X_test = scaler.transform(X_test)"
   ]
  },
  {
   "cell_type": "markdown",
   "metadata": {},
   "source": [
    "## 🧬 Modelling\n",
    "Using the K-Nearest Neighbors (K-NN) algorithm."
   ]
  },
  {
   "cell_type": "code",
   "execution_count": 167,
   "metadata": {},
   "outputs": [
    {
     "name": "stdout",
     "output_type": "stream",
     "text": [
      "Accuracy with k=3: 0.110\n",
      "Accuracy with k=5: 0.103\n",
      "Accuracy with k=7: 0.113\n",
      "Accuracy with k=9: 0.098\n"
     ]
    }
   ],
   "source": [
    "from sklearn.neighbors import KNeighborsClassifier\n",
    "from sklearn.metrics import accuracy_score, classification_report, confusion_matrix\n",
    "\n",
    "# Experimenting with hyperparameter tuning (default value of `n_neighbors` is 5).\n",
    "k_values = [3, 5, 7, 9]\n",
    "for k in k_values:\n",
    "    model = KNeighborsClassifier(n_neighbors=k)\n",
    "    model.fit(X_train, y_train)\n",
    "    pred = model.predict(X_test)\n",
    "    score = accuracy_score(y_test, pred)\n",
    "    print(f\"Accuracy with k={k}: {score:.3f}\")\n",
    "\n",
    "# Select the best value for `n_neighbors` (manual or automated tuning).\n",
    "best_k = 7\n",
    "model = KNeighborsClassifier(n_neighbors=best_k)\n",
    "model.fit(X_train, y_train)\n",
    "pred = model.predict(X_test)"
   ]
  },
  {
   "cell_type": "markdown",
   "metadata": {},
   "source": [
    "## 🔬 Evaluation"
   ]
  },
  {
   "cell_type": "code",
   "execution_count": 168,
   "metadata": {},
   "outputs": [
    {
     "name": "stdout",
     "output_type": "stream",
     "text": [
      "Final Model Accuracy (k=7): 0.113\n",
      "\n",
      "Classification Report:\n",
      "              precision    recall  f1-score   support\n",
      "\n",
      "           1       0.06      0.12      0.08        75\n",
      "           2       0.15      0.21      0.17       109\n",
      "           3       0.14      0.13      0.13        98\n",
      "           4       0.14      0.14      0.14       103\n",
      "           5       0.11      0.12      0.12        84\n",
      "           6       0.11      0.10      0.10       108\n",
      "           7       0.09      0.09      0.09        88\n",
      "           8       0.14      0.08      0.10       122\n",
      "           9       0.13      0.09      0.11       113\n",
      "          10       0.09      0.05      0.06       100\n",
      "\n",
      "    accuracy                           0.11      1000\n",
      "   macro avg       0.11      0.11      0.11      1000\n",
      "weighted avg       0.12      0.11      0.11      1000\n",
      "\n"
     ]
    }
   ],
   "source": [
    "accuracy = accuracy_score(y_test, pred)\n",
    "print(f\"Final Model Accuracy (k={best_k}): {accuracy:.3f}\")\n",
    "print(\"\\nClassification Report:\")\n",
    "print(classification_report(y_test, pred))"
   ]
  }
 ],
 "metadata": {
  "kernelspec": {
   "display_name": "Python 3",
   "language": "python",
   "name": "python3"
  },
  "language_info": {
   "codemirror_mode": {
    "name": "ipython",
    "version": 3
   },
   "file_extension": ".py",
   "mimetype": "text/x-python",
   "name": "python",
   "nbconvert_exporter": "python",
   "pygments_lexer": "ipython3",
   "version": "3.11.5"
  }
 },
 "nbformat": 4,
 "nbformat_minor": 2
}
